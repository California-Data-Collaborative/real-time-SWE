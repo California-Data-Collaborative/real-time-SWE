{
 "cells": [
  {
   "cell_type": "code",
   "execution_count": 1,
   "metadata": {},
   "outputs": [],
   "source": [
    "import tweepy \n",
    "import Tkinter\n",
    "import urllib2\n",
    "from twython import Twython\n",
    "from datetime import datetime\n",
    "from threading import Timer\n",
    "import glob\n",
    "import os\n",
    "import sched, time"
   ]
  },
  {
   "cell_type": "code",
   "execution_count": null,
   "metadata": {},
   "outputs": [],
   "source": [
    "# Fill in respective keys and tokens (or set aliases for them)\n",
    "consumer_key = ''\n",
    "consumer_secret = ''\n",
    "access_token = ''\n",
    "access_token_secret = ''"
   ]
  },
  {
   "cell_type": "code",
   "execution_count": null,
   "metadata": {},
   "outputs": [],
   "source": [
    "# Create your api\n",
    "auth = tweepy.OAuthHandler(consumer_key, consumer_secret)\n",
    "auth.set_access_token(access_token, access_token_secret)\n",
    "api = tweepy.API(auth)"
   ]
  },
  {
   "cell_type": "code",
   "execution_count": null,
   "metadata": {},
   "outputs": [],
   "source": [
    "# Determine if the api was set up correctly by looking at the username\n",
    "user = api.me()\n",
    "print (user.name)"
   ]
  },
  {
   "cell_type": "markdown",
   "metadata": {},
   "source": [
    "Everything in the cell below could be put into a function that is set to run daily, so when a new image is produced and saved to a folder daily, it can then be posted to twitter right after. The cell below works to find the most recently saved .png file (an image) in a folder and posts it to twitter."
   ]
  },
  {
   "cell_type": "code",
   "execution_count": null,
   "metadata": {},
   "outputs": [],
   "source": [
    "# Put image path where needed\n",
    "# * means all if need specific format then *.png for image files\n",
    "# Check to make sure the most recent file added to said folder is the file you wish to upload\n",
    "list_of_files = glob.glob('path/*.png') \n",
    "latest_file = max(list_of_files, key=os.path.getctime)\n",
    "print latest_file\n",
    "\n",
    "# Tweeting the image and message\n",
    "image = open(latest_file,'rb')\n",
    "message = 'Message you want. I.e: Daily predicted snow level in the Sierra Nevadas'\n",
    "response = twitter.upload_media(media=image)\n",
    "media_id = [response['media_id']]\n",
    "twitter.update_status(status=message, media_ids=media_id)"
   ]
  }
 ],
 "metadata": {
  "kernelspec": {
   "display_name": "Python 2",
   "language": "python",
   "name": "python2"
  },
  "language_info": {
   "codemirror_mode": {
    "name": "ipython",
    "version": 2
   },
   "file_extension": ".py",
   "mimetype": "text/x-python",
   "name": "python",
   "nbconvert_exporter": "python",
   "pygments_lexer": "ipython2",
   "version": "2.7.15"
  }
 },
 "nbformat": 4,
 "nbformat_minor": 2
}
