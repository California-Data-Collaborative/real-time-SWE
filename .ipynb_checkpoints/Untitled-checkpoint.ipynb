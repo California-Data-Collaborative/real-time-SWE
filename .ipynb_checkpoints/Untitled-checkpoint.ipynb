{
 "cells": [
  {
   "cell_type": "code",
   "execution_count": 12,
   "metadata": {},
   "outputs": [],
   "source": [
    "import pandas as pd\n",
    "import urllib\n",
    "import datetime\n",
    "import boto3\n",
    "import os \n",
    "import io\n",
    "import re\n",
    "\n",
    "bucket = 'cadc-snowbot'\n",
    "s3_client = boto3.client('s3')\n",
    "s3_resource = boto3.resource('s3')\n",
    "\n",
    "stationIDs = getStationDetails().ID\n",
    "first_date = '1980-07-02'\n",
    "today = str(datetime.date.today())"
   ]
  },
  {
   "cell_type": "code",
   "execution_count": 4,
   "metadata": {},
   "outputs": [],
   "source": [
    "df = pd.read_csv('data/stationNames.csv')\n",
    "df = df[['ID', 'Longitude', 'Latitude', 'ElevationFeet']]"
   ]
  },
  {
   "cell_type": "code",
   "execution_count": 9,
   "metadata": {},
   "outputs": [],
   "source": [
    "def getStationDetails():\n",
    "    df = pd.read_csv('data/stationNames.csv')\n",
    "    return(df[['ID', 'Longitude', 'Latitude', 'ElevationFeet']])"
   ]
  },
  {
   "cell_type": "code",
   "execution_count": 13,
   "metadata": {},
   "outputs": [],
   "source": [
    "def updateHistorical(sens=3, start_date=first_date, end_date=today):  \n",
    "    st = '3LK'\n",
    "    url = f'http://cdec.water.ca.gov/dynamicapp/req/CSVDataServlet?Stations={st}&SensorNums={sens}&dur_code=D&Start={start_date}&End={end_date}'\n",
    "    \n",
    "    df_raw = pd.read_csv(url)\n",
    "    df_raw['station_id'] = st\n",
    "    df = pd.DataFrame()\n",
    "    \n",
    "    for st in stationIDs[1:]:\n",
    "        url = f'http://cdec.water.ca.gov/dynamicapp/req/CSVDataServlet?Stations={st}&SensorNums={sens}&dur_code=D&Start={start_date}&End={end_date}'\n",
    "        tmp = pd.read_csv(url)\n",
    "        \n",
    "        df_raw = df_raw.append(tmp)\n",
    "        \n",
    "        tmp['date'] = [datetime.datetime.strptime(i[:8], '%Y%m%d').date() \\\n",
    "                       for i in tmp['DATE TIME']]\n",
    "        tmp = tmp[['date', 'VALUE']]\n",
    "        tmp.columns = ['date', st]\n",
    "        tmp.set_index('date')\n",
    "\n",
    "        df = tmp if df.shape[0]==0 else df.merge(tmp, how='outer')        \n",
    "    \n",
    "    fname = f\"{today.replace('-','')}_{sens:02}\"\n",
    "    fnameBackup = f\"backup_{fname}.csv\"\n",
    "    fnameRaw = f\"raw_{fname}.csv\"\n",
    "    \n",
    "    return(df)\n",
    "#     df.to_csv(f\"data/{fnameBackup}\")\n",
    "#     df_raw.to_csv(f\"data/{fnameRaw}\")\n",
    "    "
   ]
  },
  {
   "cell_type": "code",
   "execution_count": null,
   "metadata": {},
   "outputs": [],
   "source": [
    "updateHistorical(3, today, today)"
   ]
  }
 ],
 "metadata": {
  "kernelspec": {
   "display_name": "DataScience (basic)",
   "language": "python",
   "name": "ds_basic"
  },
  "language_info": {
   "codemirror_mode": {
    "name": "ipython",
    "version": 3
   },
   "file_extension": ".py",
   "mimetype": "text/x-python",
   "name": "python",
   "nbconvert_exporter": "python",
   "pygments_lexer": "ipython3",
   "version": "3.7.0"
  }
 },
 "nbformat": 4,
 "nbformat_minor": 2
}
